{
 "cells": [
  {
   "cell_type": "code",
   "execution_count": 1,
   "metadata": {},
   "outputs": [
    {
     "name": "stdout",
     "output_type": "stream",
     "text": [
      "Requirement already satisfied: svgpathtools in /home/martin/anaconda/lib/python2.7/site-packages (1.3.3)\n",
      "Requirement already satisfied: svg.path in /home/martin/anaconda/lib/python2.7/site-packages (3.0)\n",
      "Requirement already satisfied: numpy in /home/martin/anaconda/lib/python2.7/site-packages (from svgpathtools) (1.15.2)\n",
      "Requirement already satisfied: svgwrite in /home/martin/anaconda/lib/python2.7/site-packages (from svgpathtools) (1.1.12)\n",
      "Requirement already satisfied: setuptools in /home/martin/anaconda/lib/python2.7/site-packages (from svg.path) (40.4.3)\n",
      "Requirement already satisfied: pyparsing>=2.0.1 in /home/martin/anaconda/lib/python2.7/site-packages (from svgwrite->svgpathtools) (2.2.0)\n",
      "\u001b[33mYou are using pip version 18.0, however version 18.1 is available.\n",
      "You should consider upgrading via the 'pip install --upgrade pip' command.\u001b[0m\n"
     ]
    }
   ],
   "source": [
    "!pip install svgpathtools svg.path\n",
    "import svg.path"
   ]
  },
  {
   "cell_type": "code",
   "execution_count": 2,
   "metadata": {},
   "outputs": [],
   "source": [
    "from svgpathtools import svg2paths\n",
    "paths, attributes = svg2paths('led_bezier.svg')\n",
    "path = paths[0]"
   ]
  },
  {
   "cell_type": "code",
   "execution_count": 3,
   "metadata": {},
   "outputs": [],
   "source": [
    "# This examples runs only in python 3.+ versions since Tkinter was changed\n",
    "from svg.path import Path, Line, Arc, CubicBezier, QuadraticBezier, parse_path\n",
    "\n",
    "#svgpath = \"\"\"m 76,232.24998 c 81.57846,-49.53502 158.19366,-20.30271 \n",
    "#216,27 61.26714,59.36905 79.86223,123.38417 9,156\n",
    "#-80.84947,31.72743 -125.19991,-53.11474 -118,-91 v 0 \"\"\"\n",
    "\n",
    "#path = parse_path(svgpath)\n",
    "\n",
    "# svg.path point method returns a complex number p, p.real and p.imag can pull the x, and y\n",
    "# # on 0.0 to 1.0 along path, represent percent of distance along path\n",
    "n = 100  # number of points segments to get\n",
    "\n",
    "#pts = [ (p.real,p.imag) for p in (path.point(i/n) for i in range(0, n+1))]  # list comprehension version or loop above\n",
    "\n",
    "pts = []\n",
    "for i in range(0,n+1):\n",
    "    f = float(i)/float(n)  # will go from 0.0 to 1.0\n",
    "    complex_point = path.point(f)  # point(x) is method on svg.path to return point x * 100  percent along path\n",
    "    pts.append((complex_point.real, complex_point.imag))"
   ]
  },
  {
   "cell_type": "code",
   "execution_count": 22,
   "metadata": {},
   "outputs": [],
   "source": [
    "graph_path = np.asarray(pts)\n",
    "graph_max = np.max(graph_path[:,1])\n",
    "graph_path[:,1] = graph_max-graph_path[:,1]\n",
    "#map x to [350, 800] range\n",
    "x_range = [350, 800]\n",
    "np.min(graph_path[:,0])\n",
    "graph_path[:,0] = graph_path[:,0]-np.min(graph_path[:,0])\n",
    "np.max(graph_path[:,0])\n",
    "graph_path[:,0] = x_range[0]+(x_range[1]-x_range[0])*(graph_path[:,0]/np.max(graph_path[:,0]))\n",
    "\n",
    "#map y to [0, 1] range\n",
    "y_range = [0, 1]\n",
    "np.min(graph_path[:,1])\n",
    "graph_path[:,1] = graph_path[:,1]-np.min(graph_path[:,1])\n",
    "np.max(graph_path[:,1])\n",
    "graph_path[:,1] =y_range[0]+(y_range[1]-y_range[0])*(graph_path[:,1]/np.max(graph_path[:,1]))"
   ]
  },
  {
   "cell_type": "code",
   "execution_count": 23,
   "metadata": {},
   "outputs": [
    {
     "data": {
      "image/png": "[encoded data removed]",
      "text/plain": [
       "<Figure size 432x288 with 1 Axes>"
      ]
     },
     "metadata": {
      "needs_background": "light"
     },
     "output_type": "display_data"
    }
   ],
   "source": [
    "%matplotlib inline\n",
    "\n",
    "import matplotlib\n",
    "import numpy as np\n",
    "import matplotlib.pyplot as plt\n",
    "\n",
    "plt.plot(graph_path[:,0], graph_path[:,1])\n",
    "plt.title('exported function')\n",
    "plt.show()"
   ]
  }
 ],
 "metadata": {
  "kernelspec": {
   "display_name": "Python 2",
   "language": "python",
   "name": "python2"
  },
  "language_info": {
   "codemirror_mode": {
    "name": "ipython",
    "version": 2
   },
   "file_extension": ".py",
   "mimetype": "text/x-python",
   "name": "python",
   "nbconvert_exporter": "python",
   "pygments_lexer": "ipython2",
   "version": "2.7.13"
  }
 },
 "nbformat": 4,
 "nbformat_minor": 2
}
